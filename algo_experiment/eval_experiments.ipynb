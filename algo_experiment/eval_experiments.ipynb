{
 "cells": [
  {
   "cell_type": "code",
   "execution_count": null,
   "metadata": {},
   "outputs": [],
   "source": [
    "import json\n",
    "import numpy as np\n",
    "import pandas as pd\n",
    "import os\n",
    "\n",
    "from surrogate_rule import forest_info\n",
    "from surrogate_rule import tree_node_info"
   ]
  },
  {
   "cell_type": "code",
   "execution_count": null,
   "metadata": {},
   "outputs": [],
   "source": [
    "import time"
   ]
  },
  {
   "cell_type": "code",
   "execution_count": null,
   "metadata": {},
   "outputs": [],
   "source": [
    "data_name_list = [\n",
    "    'crime',\n",
    "    'diabetes',\n",
    "    'dry_bean',\n",
    "    'income',\n",
    "    'loan',\n",
    "    'obesity_level',\n",
    "    'penn_cpu',\n",
    "    'penn_satellite',\n",
    "    'penn_wind',\n",
    "    'music_origin'\n",
    "]\n"
   ]
  },
  {
   "cell_type": "code",
   "execution_count": null,
   "metadata": {},
   "outputs": [],
   "source": [
    "num_bin_list = [2, 3, 4, 5]\n",
    "min_support_list = [10, 20, 30, 40, 50]\n",
    "num_feat_list = [2,3,4,5]\n",
    "min_fidelity_list = [.7, .75, .8, .85, .9]\n",
    "res = []"
   ]
  },
  {
   "cell_type": "code",
   "execution_count": null,
   "metadata": {},
   "outputs": [],
   "source": [
    "def extract_rules_from_RF():\n",
    "    start_time = time.time()\n",
    "    # train surrogate\n",
    "    surrogate_obj = tree_node_info.tree_node_info()\n",
    "\n",
    "    surrogate_obj.initialize(X=np.array(data['data']), y=np.array(data['y_gt']), \n",
    "                             y_pred=np.array(data['y_pred']), debug_class=-1,\n",
    "                             attrs=data['columns'], filter_threshold=filter_threshold,\n",
    "                             n_cls=len(data['target_names']),\n",
    "                             num_bin=num_bin, verbose=False\n",
    "    ).train_surrogate_random_forest().tree_pruning()\n",
    "\n",
    "    forest_obj = tree_node_info.forest()\n",
    "    forest_obj.initialize(\n",
    "        trees=surrogate_obj.tree_list, cate_X=surrogate_obj.cate_X, \n",
    "        y=surrogate_obj.y, y_pred=surrogate_obj.y_pred, attrs=attrs, num_bin=num_bin,\n",
    "        real_percentiles=surrogate_obj.real_percentiles,\n",
    "        real_min=surrogate_obj.real_min, real_max=surrogate_obj.real_max,\n",
    "    ).construct_tree().extract_rules()\n",
    "    \n",
    "    forest = forest_info.Forest()\n",
    "\n",
    "    forest.initialize(forest_obj.tree_node_dict, data['real_min'], data['real_max'], surrogate_obj.percentile_info,\n",
    "        df, data['y_pred'], data['y_gt'],\n",
    "        forest_obj.rule_lists,\n",
    "        data['target_names'], 2)\n",
    "    forest.initialize_rule_match_table()\n",
    "    forest.initilized_rule_overlapping()\n",
    "    res = forest.find_the_min_set()\n",
    "    duration = time.time() - start_time\n",
    "    \n",
    "    return len(res['rules']), res['coverage'], duration"
   ]
  },
  {
   "cell_type": "code",
   "execution_count": null,
   "metadata": {},
   "outputs": [],
   "source": [
    "for data_name in data_name_list:\n",
    "    file = \"output/\" + data_name + \"/test.json\"\n",
    "    with open(file, 'r') as json_input:\n",
    "        data = json.load(json_input)\n",
    "    attrs = data['columns']\n",
    "    df = pd.DataFrame(data=np.array(data['data']), columns = attrs)\n",
    "    y_pred = data['y_pred']\n",
    "    print(\"======== read\", data_name, \"========\")\n",
    "    \n",
    "    res = []\n",
    "    for num_feat in num_feat_list:\n",
    "        for num_bin in num_bin_list:\n",
    "            for min_support in min_support_list:\n",
    "                for min_fidelity in min_fidelity_list:\n",
    "                    filter_threshold = {\n",
    "                        \"support\": min_support,\n",
    "                        \"fidelity\": min_fidelity,\n",
    "                        \"num_feat\": num_feat,\n",
    "                        \"num_bin\": num_bin,\n",
    "                    }\n",
    "                    print(\"#feat=\",num_feat, \"#bin=\", num_bin, \"support=\", min_support, \"fidelity=\",min_fidelity)\n",
    "                    try:\n",
    "                        sure_len, sure_cover, duration = extract_rules_from_RF()    \n",
    "                    except ValueError:\n",
    "                        continue\n",
    "                    res.append({\n",
    "                        'min_support': min_support,\n",
    "                        'num_feat': num_feat,\n",
    "                        'num_bin': num_bin,\n",
    "                        'min_fidelity': min_fidelity,\n",
    "                        'min_set_size': sure_len,\n",
    "                        'time': duration,\n",
    "                        'coverage': sure_cover,\n",
    "                    })\n",
    "    with open('./exp_output/'+data_name+'.json', 'w') as output:\n",
    "        output.write(json.dumps({'res': res}))"
   ]
  },
  {
   "cell_type": "code",
   "execution_count": null,
   "metadata": {},
   "outputs": [],
   "source": [
    "\n"
   ]
  },
  {
   "cell_type": "code",
   "execution_count": null,
   "metadata": {},
   "outputs": [],
   "source": []
  },
  {
   "cell_type": "code",
   "execution_count": null,
   "metadata": {},
   "outputs": [],
   "source": []
  }
 ],
 "metadata": {
  "kernelspec": {
   "display_name": "Python 3",
   "language": "python",
   "name": "python3"
  },
  "language_info": {
   "codemirror_mode": {
    "name": "ipython",
    "version": 3
   },
   "file_extension": ".py",
   "mimetype": "text/x-python",
   "name": "python",
   "nbconvert_exporter": "python",
   "pygments_lexer": "ipython3",
   "version": "3.8.3"
  }
 },
 "nbformat": 4,
 "nbformat_minor": 4
}
