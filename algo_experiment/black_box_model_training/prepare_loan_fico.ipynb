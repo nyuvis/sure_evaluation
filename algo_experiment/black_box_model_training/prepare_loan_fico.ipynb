{
 "cells": [
  {
   "cell_type": "code",
   "execution_count": 1,
   "metadata": {},
   "outputs": [],
   "source": [
    "import os\n",
    "import json\n",
    "import pandas as pd\n",
    "import numpy as np\n",
    "\n",
    "from sklearn import svm\n",
    "from sklearn.metrics import classification_report\n",
    "from sklearn.metrics import accuracy_score"
   ]
  },
  {
   "cell_type": "code",
   "execution_count": 2,
   "metadata": {},
   "outputs": [],
   "source": [
    "def prepare_for_analysis(filename):\n",
    "    data_array = pd.read_csv(filename,header=None).values\n",
    "\n",
    "    # -- Removes the columns with all -9 values -- \n",
    "    row_no = 0 \n",
    "    for row in data_array:\n",
    "        for col_i in range(1,row.shape[0]):\n",
    "            if (row[col_i] == -9):\n",
    "                remove = True\n",
    "            else:\n",
    "                remove = False\n",
    "                break\n",
    "\n",
    "        if remove:\n",
    "            data_array = np.delete(data_array, row_no, 0)\n",
    "\n",
    "        else:\n",
    "            row_no += 1\n",
    "\n",
    "    return data_array"
   ]
  },
  {
   "cell_type": "code",
   "execution_count": 4,
   "metadata": {},
   "outputs": [
    {
     "name": "stdout",
     "output_type": "stream",
     "text": [
      "(9871, 22)\n"
     ]
    }
   ],
   "source": [
    "np.random.seed(12345)\n",
    "\n",
    "'''prepare data'''\n",
    "vals = prepare_for_analysis(\"./input/fico_final_data_file.csv\")\n",
    "features = np.array([\n",
    "    \"Outcome\", # class\n",
    "    \"External Risk Estimate\", # risk score\n",
    "    \"Months Since Oldest Trade Open\",\n",
    "    \"Months Since Last Trade Open\",\n",
    "    \"Average Months in File\",\n",
    "    \"Satisfactory Trades\",\n",
    "    \"Trades 60+ Ever\",\n",
    "    \"Trades 90+ Ever\",\n",
    "    \"Bills Paid on Time\",\n",
    "    \"Months Since Last Delq.\",\n",
    "    \"Max Delq. Last 12M\",\n",
    "    \"Max Delq. Ever\",\n",
    "    \"Total Trades\",\n",
    "    \"Trades Open Last 12M\",\n",
    "    \"% Installment Trades\",\n",
    "    \"Months Since Most Recent Inq\",\n",
    "    \"Inq Last 6 Months\",\n",
    "    \"Inq Last 6 Months exl. 7 days\",\n",
    "    \"Unpaid Balance\",\n",
    "    \"Installment Burden\",\n",
    "    \"Revolving Trades w/ Balance\",\n",
    "    \"Installment Trades w/ Balance\",\n",
    "    \"Bank Trades w/ High Utilization Ratio\",\n",
    "    \"% Trades w/ Balance\"])\n",
    "\n",
    "df = pd.DataFrame(data = vals[:,2:], columns=features[2:])\n",
    "# not include the class and risk score for training\n",
    "to_keep = features[2:]\n",
    "\n",
    "X = df.values\n",
    "y = vals[:,0]\n",
    "y = y.reshape(len(y))\n",
    "y[:] = [1 - x for x in y]\n",
    "\n",
    "no_features = X.shape\n",
    "print(no_features)\n",
    "train = X[:int(0.8*no_features[0])]\n",
    "test = X[int(0.8*no_features[0]):]\n",
    "\n",
    "train_labels = y[:int(0.8*no_features[0])]\n",
    "test_labels = y[int(0.8*no_features[0]):]\n",
    "\n",
    "# test_df = pd.DataFrame(test, columns=features[2:])\n",
    "# validate_df = pd.DataFrame(validate, columns=features[2:])\n",
    "\n",
    "train_df = pd.DataFrame(train, columns=to_keep)\n",
    "test_df = pd.DataFrame(test, columns=to_keep)\n",
    "\n",
    "'''train the model'''\n",
    "clf = svm.SVC(kernel=\"linear\", C=0.001, probability=True)\n",
    "clf.fit(X, y)\n",
    "# predict_labels = clf.predict(test)\n",
    "\n",
    "'''output'''\n",
    "target_names = [\"Accept\", \"Decline\"]"
   ]
  },
  {
   "cell_type": "code",
   "execution_count": 5,
   "metadata": {},
   "outputs": [
    {
     "data": {
      "text/plain": [
       "0.7356962025316456"
      ]
     },
     "execution_count": 5,
     "metadata": {},
     "output_type": "execute_result"
    }
   ],
   "source": [
    "clf.score(test,test_labels )"
   ]
  },
  {
   "cell_type": "code",
   "execution_count": null,
   "metadata": {},
   "outputs": [],
   "source": []
  },
  {
   "cell_type": "code",
   "execution_count": null,
   "metadata": {},
   "outputs": [],
   "source": []
  },
  {
   "cell_type": "code",
   "execution_count": null,
   "metadata": {},
   "outputs": [],
   "source": []
  },
  {
   "cell_type": "code",
   "execution_count": null,
   "metadata": {},
   "outputs": [],
   "source": []
  },
  {
   "cell_type": "code",
   "execution_count": null,
   "metadata": {},
   "outputs": [],
   "source": []
  }
 ],
 "metadata": {
  "kernelspec": {
   "display_name": "Python 3",
   "language": "python",
   "name": "python3"
  },
  "language_info": {
   "codemirror_mode": {
    "name": "ipython",
    "version": 3
   },
   "file_extension": ".py",
   "mimetype": "text/x-python",
   "name": "python",
   "nbconvert_exporter": "python",
   "pygments_lexer": "ipython3",
   "version": "3.8.3"
  }
 },
 "nbformat": 4,
 "nbformat_minor": 4
}
