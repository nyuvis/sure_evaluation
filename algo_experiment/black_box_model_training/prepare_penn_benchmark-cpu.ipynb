{
 "cells": [
  {
   "cell_type": "code",
   "execution_count": 1,
   "metadata": {},
   "outputs": [],
   "source": [
    "import os\n",
    "import json\n",
    "import pandas as pd\n",
    "import numpy as np\n",
    "\n",
    "from sklearn.neural_network import MLPClassifier\n",
    "\n",
    "from sklearn.model_selection import train_test_split\n",
    "from sklearn.metrics import classification_report\n",
    "from sklearn.metrics import accuracy_score\n",
    "from sklearn import svm\n",
    "\n",
    "from pmlb import fetch_data"
   ]
  },
  {
   "cell_type": "markdown",
   "metadata": {},
   "source": [
    "## Read Data\n",
    "You can change the code below to read your own data."
   ]
  },
  {
   "cell_type": "code",
   "execution_count": 2,
   "metadata": {},
   "outputs": [
    {
     "name": "stdout",
     "output_type": "stream",
     "text": [
      "             lread       lwrite         scall        sread       swrite  \\\n",
      "count  8192.000000  8192.000000   8192.000000  8192.000000  8192.000000   \n",
      "mean     19.559692    13.106201   2306.318237   210.479980   150.058228   \n",
      "std      53.353799    29.891726   1633.617322   198.980146   160.478980   \n",
      "min       0.000000     0.000000    109.000000     6.000000     7.000000   \n",
      "25%       2.000000     0.000000   1012.000000    86.000000    63.000000   \n",
      "50%       7.000000     1.000000   2051.500000   166.000000   117.000000   \n",
      "75%      20.000000    10.000000   3317.250000   279.000000   185.000000   \n",
      "max    1845.000000   575.000000  12493.000000  5318.000000  5456.000000   \n",
      "\n",
      "              fork         exec         rchar         wchar        pgout  ...  \\\n",
      "count  8192.000000  8192.000000  8.192000e+03  8.192000e+03  8192.000000  ...   \n",
      "mean      1.884554     2.791998  1.970137e+05  9.589829e+04     2.285317  ...   \n",
      "std       2.479493     5.212456  2.394808e+05  1.407569e+05     5.307038  ...   \n",
      "min       0.000000     0.000000  2.780000e+02  1.498000e+03     0.000000  ...   \n",
      "25%       0.400000     0.200000  3.386425e+04  2.293550e+04     0.000000  ...   \n",
      "50%       0.800000     1.200000  1.247795e+05  4.662000e+04     0.000000  ...   \n",
      "75%       2.200000     2.800000  2.676692e+05  1.061480e+05     2.400000  ...   \n",
      "max      20.120001    59.560001  2.526649e+06  1.801623e+06    81.440002  ...   \n",
      "\n",
      "            pgscan         atch         pgin        ppgin         pflt  \\\n",
      "count  8192.000000  8192.000000  8192.000000  8192.000000  8192.000000   \n",
      "mean     21.526849     1.127505     8.277960    12.388586   109.793799   \n",
      "std      71.141340     5.708347    13.874978    22.281318   114.419221   \n",
      "min       0.000000     0.000000     0.000000     0.000000     0.000000   \n",
      "25%       0.000000     0.000000     0.600000     0.600000    25.000000   \n",
      "50%       0.000000     0.000000     2.800000     3.800000    63.799999   \n",
      "75%       0.000000     0.600000     9.765000    13.800000   159.600006   \n",
      "max    1237.000000   211.580002   141.199997   292.609985   899.799988   \n",
      "\n",
      "              vflt       runqsz       freemem      freeswap       target  \n",
      "count  8192.000000  8192.000000   8192.000000  8.192000e+03  8192.000000  \n",
      "mean    185.315796    19.630676   1763.456299  1.328126e+06    83.968872  \n",
      "std     191.000603   125.742085   2482.104511  4.220194e+05    18.401905  \n",
      "min       0.200000     1.000000     55.000000  2.000000e+00     0.000000  \n",
      "25%      45.400002     1.200000    231.000000  1.042624e+06    81.000000  \n",
      "50%     120.400002     2.000000    579.000000  1.289290e+06    89.000000  \n",
      "75%     251.800003     3.000000   2002.250000  1.730380e+06    94.000000  \n",
      "max    1365.000000  2823.000000  12027.000000  2.243187e+06    99.000000  \n",
      "\n",
      "[8 rows x 22 columns]\n"
     ]
    }
   ],
   "source": [
    "data_name = 'penn_benchmark_cpu'\n",
    "\n",
    "# Returns a pandas DataFrame\n",
    "df = fetch_data('197_cpu_act')\n",
    "print(df.describe())"
   ]
  },
  {
   "cell_type": "code",
   "execution_count": 3,
   "metadata": {},
   "outputs": [
    {
     "data": {
      "text/html": [
       "<div>\n",
       "<style scoped>\n",
       "    .dataframe tbody tr th:only-of-type {\n",
       "        vertical-align: middle;\n",
       "    }\n",
       "\n",
       "    .dataframe tbody tr th {\n",
       "        vertical-align: top;\n",
       "    }\n",
       "\n",
       "    .dataframe thead th {\n",
       "        text-align: right;\n",
       "    }\n",
       "</style>\n",
       "<table border=\"1\" class=\"dataframe\">\n",
       "  <thead>\n",
       "    <tr style=\"text-align: right;\">\n",
       "      <th></th>\n",
       "      <th>lread</th>\n",
       "      <th>lwrite</th>\n",
       "      <th>scall</th>\n",
       "      <th>sread</th>\n",
       "      <th>swrite</th>\n",
       "      <th>fork</th>\n",
       "      <th>exec</th>\n",
       "      <th>rchar</th>\n",
       "      <th>wchar</th>\n",
       "      <th>pgout</th>\n",
       "      <th>...</th>\n",
       "      <th>pgscan</th>\n",
       "      <th>atch</th>\n",
       "      <th>pgin</th>\n",
       "      <th>ppgin</th>\n",
       "      <th>pflt</th>\n",
       "      <th>vflt</th>\n",
       "      <th>runqsz</th>\n",
       "      <th>freemem</th>\n",
       "      <th>freeswap</th>\n",
       "      <th>target</th>\n",
       "    </tr>\n",
       "  </thead>\n",
       "  <tbody>\n",
       "    <tr>\n",
       "      <th>0</th>\n",
       "      <td>6.0</td>\n",
       "      <td>2.0</td>\n",
       "      <td>1036.0</td>\n",
       "      <td>103.0</td>\n",
       "      <td>114.0</td>\n",
       "      <td>1.00</td>\n",
       "      <td>1.00</td>\n",
       "      <td>172076.0</td>\n",
       "      <td>355965.0</td>\n",
       "      <td>0.00</td>\n",
       "      <td>...</td>\n",
       "      <td>0.000000</td>\n",
       "      <td>0.00</td>\n",
       "      <td>2.000000</td>\n",
       "      <td>4.000000</td>\n",
       "      <td>73.599998</td>\n",
       "      <td>89.000000</td>\n",
       "      <td>2.0</td>\n",
       "      <td>6527.0</td>\n",
       "      <td>1851864.0</td>\n",
       "      <td>90.0</td>\n",
       "    </tr>\n",
       "    <tr>\n",
       "      <th>1</th>\n",
       "      <td>1.0</td>\n",
       "      <td>0.0</td>\n",
       "      <td>2165.0</td>\n",
       "      <td>205.0</td>\n",
       "      <td>101.0</td>\n",
       "      <td>0.40</td>\n",
       "      <td>1.20</td>\n",
       "      <td>43107.0</td>\n",
       "      <td>44139.0</td>\n",
       "      <td>4.80</td>\n",
       "      <td>...</td>\n",
       "      <td>181.399994</td>\n",
       "      <td>0.20</td>\n",
       "      <td>85.400002</td>\n",
       "      <td>88.199997</td>\n",
       "      <td>19.400000</td>\n",
       "      <td>161.800003</td>\n",
       "      <td>3.0</td>\n",
       "      <td>130.0</td>\n",
       "      <td>1131931.0</td>\n",
       "      <td>88.0</td>\n",
       "    </tr>\n",
       "    <tr>\n",
       "      <th>2</th>\n",
       "      <td>62.0</td>\n",
       "      <td>77.0</td>\n",
       "      <td>3806.0</td>\n",
       "      <td>258.0</td>\n",
       "      <td>166.0</td>\n",
       "      <td>1.40</td>\n",
       "      <td>1.40</td>\n",
       "      <td>492142.0</td>\n",
       "      <td>268706.0</td>\n",
       "      <td>4.80</td>\n",
       "      <td>...</td>\n",
       "      <td>79.199997</td>\n",
       "      <td>2.20</td>\n",
       "      <td>7.600000</td>\n",
       "      <td>12.200000</td>\n",
       "      <td>68.000000</td>\n",
       "      <td>218.800003</td>\n",
       "      <td>5.2</td>\n",
       "      <td>256.0</td>\n",
       "      <td>1314590.0</td>\n",
       "      <td>85.0</td>\n",
       "    </tr>\n",
       "    <tr>\n",
       "      <th>3</th>\n",
       "      <td>5.0</td>\n",
       "      <td>0.0</td>\n",
       "      <td>4721.0</td>\n",
       "      <td>256.0</td>\n",
       "      <td>177.0</td>\n",
       "      <td>0.99</td>\n",
       "      <td>2.58</td>\n",
       "      <td>524787.0</td>\n",
       "      <td>174964.0</td>\n",
       "      <td>14.51</td>\n",
       "      <td>...</td>\n",
       "      <td>189.860001</td>\n",
       "      <td>1.99</td>\n",
       "      <td>4.170000</td>\n",
       "      <td>24.850000</td>\n",
       "      <td>95.629997</td>\n",
       "      <td>248.910004</td>\n",
       "      <td>1.0</td>\n",
       "      <td>233.0</td>\n",
       "      <td>972606.0</td>\n",
       "      <td>81.0</td>\n",
       "    </tr>\n",
       "    <tr>\n",
       "      <th>4</th>\n",
       "      <td>42.0</td>\n",
       "      <td>55.0</td>\n",
       "      <td>3949.0</td>\n",
       "      <td>249.0</td>\n",
       "      <td>244.0</td>\n",
       "      <td>2.60</td>\n",
       "      <td>4.60</td>\n",
       "      <td>197289.0</td>\n",
       "      <td>529200.0</td>\n",
       "      <td>4.20</td>\n",
       "      <td>...</td>\n",
       "      <td>0.000000</td>\n",
       "      <td>1.40</td>\n",
       "      <td>1.800000</td>\n",
       "      <td>2.200000</td>\n",
       "      <td>219.600006</td>\n",
       "      <td>297.200012</td>\n",
       "      <td>3.4</td>\n",
       "      <td>331.0</td>\n",
       "      <td>1013805.0</td>\n",
       "      <td>79.0</td>\n",
       "    </tr>\n",
       "  </tbody>\n",
       "</table>\n",
       "<p>5 rows × 22 columns</p>\n",
       "</div>"
      ],
      "text/plain": [
       "   lread  lwrite   scall  sread  swrite  fork  exec     rchar     wchar  \\\n",
       "0    6.0     2.0  1036.0  103.0   114.0  1.00  1.00  172076.0  355965.0   \n",
       "1    1.0     0.0  2165.0  205.0   101.0  0.40  1.20   43107.0   44139.0   \n",
       "2   62.0    77.0  3806.0  258.0   166.0  1.40  1.40  492142.0  268706.0   \n",
       "3    5.0     0.0  4721.0  256.0   177.0  0.99  2.58  524787.0  174964.0   \n",
       "4   42.0    55.0  3949.0  249.0   244.0  2.60  4.60  197289.0  529200.0   \n",
       "\n",
       "   pgout  ...      pgscan  atch       pgin      ppgin        pflt        vflt  \\\n",
       "0   0.00  ...    0.000000  0.00   2.000000   4.000000   73.599998   89.000000   \n",
       "1   4.80  ...  181.399994  0.20  85.400002  88.199997   19.400000  161.800003   \n",
       "2   4.80  ...   79.199997  2.20   7.600000  12.200000   68.000000  218.800003   \n",
       "3  14.51  ...  189.860001  1.99   4.170000  24.850000   95.629997  248.910004   \n",
       "4   4.20  ...    0.000000  1.40   1.800000   2.200000  219.600006  297.200012   \n",
       "\n",
       "   runqsz  freemem   freeswap  target  \n",
       "0     2.0   6527.0  1851864.0    90.0  \n",
       "1     3.0    130.0  1131931.0    88.0  \n",
       "2     5.2    256.0  1314590.0    85.0  \n",
       "3     1.0    233.0   972606.0    81.0  \n",
       "4     3.4    331.0  1013805.0    79.0  \n",
       "\n",
       "[5 rows x 22 columns]"
      ]
     },
     "execution_count": 3,
     "metadata": {},
     "output_type": "execute_result"
    }
   ],
   "source": [
    "df.head()"
   ]
  },
  {
   "cell_type": "code",
   "execution_count": 4,
   "metadata": {},
   "outputs": [
    {
     "data": {
      "text/plain": [
       "(89.0, 0.0, 99.0)"
      ]
     },
     "execution_count": 4,
     "metadata": {},
     "output_type": "execute_result"
    }
   ],
   "source": [
    "df['target'].median(), df['target'].min(), df['target'].max(),"
   ]
  },
  {
   "cell_type": "code",
   "execution_count": 5,
   "metadata": {},
   "outputs": [
    {
     "data": {
      "text/plain": [
       "90.0    459\n",
       "91.0    448\n",
       "92.0    426\n",
       "94.0    421\n",
       "93.0    411\n",
       "97.0    410\n",
       "96.0    410\n",
       "95.0    405\n",
       "88.0    384\n",
       "98.0    378\n",
       "89.0    376\n",
       "87.0    338\n",
       "86.0    283\n",
       "0.0     283\n",
       "85.0    254\n",
       "84.0    252\n",
       "83.0    230\n",
       "81.0    201\n",
       "82.0    187\n",
       "80.0    166\n",
       "79.0    150\n",
       "77.0    144\n",
       "78.0    126\n",
       "76.0    119\n",
       "75.0    104\n",
       "74.0     96\n",
       "72.0     77\n",
       "73.0     73\n",
       "99.0     60\n",
       "69.0     51\n",
       "71.0     49\n",
       "68.0     46\n",
       "70.0     42\n",
       "67.0     39\n",
       "66.0     36\n",
       "63.0     32\n",
       "62.0     27\n",
       "64.0     27\n",
       "65.0     25\n",
       "59.0     23\n",
       "60.0     20\n",
       "58.0     17\n",
       "61.0     16\n",
       "57.0     14\n",
       "56.0     11\n",
       "1.0      10\n",
       "55.0     10\n",
       "54.0      7\n",
       "53.0      5\n",
       "50.0      4\n",
       "51.0      4\n",
       "52.0      2\n",
       "48.0      1\n",
       "2.0       1\n",
       "46.0      1\n",
       "49.0      1\n",
       "Name: target, dtype: int64"
      ]
     },
     "execution_count": 5,
     "metadata": {},
     "output_type": "execute_result"
    }
   ],
   "source": [
    "df['target'].value_counts()"
   ]
  },
  {
   "cell_type": "code",
   "execution_count": 6,
   "metadata": {},
   "outputs": [],
   "source": [
    "gt = (df['target'] > df['target'].median()).astype(int)\n",
    "df['gt'] = gt"
   ]
  },
  {
   "cell_type": "code",
   "execution_count": 7,
   "metadata": {},
   "outputs": [
    {
     "data": {
      "text/plain": [
       "0    4364\n",
       "1    3828\n",
       "Name: gt, dtype: int64"
      ]
     },
     "execution_count": 7,
     "metadata": {},
     "output_type": "execute_result"
    }
   ],
   "source": [
    "df['gt'].value_counts()"
   ]
  },
  {
   "cell_type": "markdown",
   "metadata": {},
   "source": [
    "## Train a classification model\n",
    "In this step, you can either train a model in the cell below, or skip the training part and read the model prediction of the training data from your own model ."
   ]
  },
  {
   "cell_type": "code",
   "execution_count": 8,
   "metadata": {},
   "outputs": [
    {
     "name": "stdout",
     "output_type": "stream",
     "text": [
      "0.8194020744356315\n"
     ]
    }
   ],
   "source": [
    "'''prepare data'''\n",
    "target_col = 'gt'\n",
    "\n",
    "to_keep = df.columns[:-2]\n",
    "X = df[to_keep].values\n",
    "y = df[target_col].values\n",
    "y = y.reshape(len(y))\n",
    "\n",
    "train, test, train_labels, test_labels = train_test_split(X, y, test_size = 0.2)\n",
    "\n",
    "train_df = pd.DataFrame(train, columns=df.columns[:-2].values)\n",
    "test_df = pd.DataFrame(test, columns=df.columns[:-2].values)\n",
    "\n",
    "'''train the model'''\n",
    "clf = MLPClassifier(random_state=1, max_iter=350)\n",
    "clf.fit(train, train_labels)\n",
    "\n",
    "'''report accuracy'''\n",
    "print(clf.score(test,test_labels ))"
   ]
  },
  {
   "cell_type": "code",
   "execution_count": 9,
   "metadata": {},
   "outputs": [],
   "source": [
    "y_pred = clf.predict(train)"
   ]
  },
  {
   "cell_type": "markdown",
   "metadata": {},
   "source": [
    "## Output Training Data"
   ]
  },
  {
   "cell_type": "code",
   "execution_count": 10,
   "metadata": {},
   "outputs": [],
   "source": [
    "'''\n",
    "cols: the column names of the input data.\n",
    "data: the training input.\n",
    "target_names: the names for the target classes (grount truth).\n",
    "real_min: minimal values for columns of the input data.\n",
    "real_max: maximal values for columns of the input data.\n",
    "y_pred: the prediction of the input data from the model you want to explain.\n",
    "y_gt: the ground truth of the input data.\n",
    "'''\n",
    "\n",
    "def output_data(cols, data, target_names, real_min, real_max, y_pred, y_gt):\n",
    "    filename = \"./output/\"+data_name+\"/test.json\"\n",
    "    directory = os.path.dirname(filename)\n",
    "    if not os.path.exists(directory):\n",
    "        os.makedirs(directory)\n",
    "        \n",
    "    to_output = {}\n",
    "    to_output['columns'] = cols\n",
    "    to_output['data'] = data\n",
    "    to_output['target_names'] = target_names\n",
    "    to_output['real_min'] = real_min\n",
    "    to_output['real_max'] = real_max\n",
    "    to_output['y_pred'] = y_pred\n",
    "    to_output['y_gt'] = y_gt\n",
    "    with open(filename, 'w') as output:\n",
    "        output.write(json.dumps(to_output))"
   ]
  },
  {
   "cell_type": "code",
   "execution_count": 11,
   "metadata": {},
   "outputs": [],
   "source": [
    "''' name the target classes '''\n",
    "target_names = [\"low\", \"high\"]\n",
    "\n",
    "''' obtain the min and max values '''\n",
    "min_val = np.min(X, axis=0)\n",
    "max_val = np.max(X, axis=0)\n",
    "\n",
    "''' output data '''\n",
    "output_data(cols=to_keep.tolist(), \n",
    "            data=train.tolist(), \n",
    "            target_names=target_names, \n",
    "            real_min=min_val.tolist(), \n",
    "            real_max=max_val.tolist(),\n",
    "            y_pred=y_pred.tolist(), \n",
    "            y_gt=train_labels.tolist())"
   ]
  },
  {
   "cell_type": "code",
   "execution_count": null,
   "metadata": {},
   "outputs": [],
   "source": []
  },
  {
   "cell_type": "code",
   "execution_count": null,
   "metadata": {},
   "outputs": [],
   "source": []
  }
 ],
 "metadata": {
  "kernelspec": {
   "display_name": "Python 3",
   "language": "python",
   "name": "python3"
  },
  "language_info": {
   "codemirror_mode": {
    "name": "ipython",
    "version": 3
   },
   "file_extension": ".py",
   "mimetype": "text/x-python",
   "name": "python",
   "nbconvert_exporter": "python",
   "pygments_lexer": "ipython3",
   "version": "3.8.3"
  }
 },
 "nbformat": 4,
 "nbformat_minor": 4
}
