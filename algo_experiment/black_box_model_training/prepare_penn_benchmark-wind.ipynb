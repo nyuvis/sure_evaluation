{
 "cells": [
  {
   "cell_type": "code",
   "execution_count": 1,
   "metadata": {},
   "outputs": [],
   "source": [
    "import os\n",
    "import json\n",
    "import pandas as pd\n",
    "import numpy as np\n",
    "\n",
    "from sklearn.neural_network import MLPClassifier\n",
    "\n",
    "from sklearn.model_selection import train_test_split\n",
    "from sklearn.metrics import classification_report\n",
    "from sklearn.metrics import accuracy_score\n",
    "from sklearn import svm\n",
    "\n",
    "from pmlb import fetch_data"
   ]
  },
  {
   "cell_type": "markdown",
   "metadata": {},
   "source": [
    "## Read Data\n",
    "You can change the code below to read your own data."
   ]
  },
  {
   "cell_type": "code",
   "execution_count": 2,
   "metadata": {},
   "outputs": [
    {
     "name": "stdout",
     "output_type": "stream",
     "text": [
      "              year        month          day          RPT          VAL  \\\n",
      "count  6574.000000  6574.000000  6574.000000  6574.000000  6574.000000   \n",
      "mean     69.500304     6.523274    15.728628    12.363715    10.646448   \n",
      "std       5.188131     3.448871     8.800335     5.619610     5.268602   \n",
      "min      61.000000     1.000000     1.000000     0.670000     0.210000   \n",
      "25%      65.000000     4.000000     8.000000     8.120000     6.670000   \n",
      "50%      69.500000     7.000000    16.000000    11.710000    10.170000   \n",
      "75%      74.000000    10.000000    23.000000    15.920000    14.040000   \n",
      "max      78.000000    12.000000    31.000000    35.799999    33.369999   \n",
      "\n",
      "               ROS          KIL          SHA          BIR          DUB  \\\n",
      "count  6574.000000  6574.000000  6574.000000  6574.000000  6574.000000   \n",
      "mean     11.660103     6.306275    10.456880     7.092254     9.796835   \n",
      "std       5.007765     3.605407     4.935739     3.968683     4.977272   \n",
      "min       1.500000     0.000000     0.130000     0.000000     0.000000   \n",
      "25%       8.000000     3.580000     6.750000     4.000000     6.000000   \n",
      "50%      10.920000     5.750000     9.960000     6.830000     9.210000   \n",
      "75%      14.670000     8.420000    13.540000     9.670000    12.960000   \n",
      "max      33.840000    28.459999    37.540001    26.160000    30.370001   \n",
      "\n",
      "              CLA          MUL          CLO          BEL       target  \n",
      "count  6574.00000  6574.000000  6574.000000  6574.000000  6574.000000  \n",
      "mean      8.49442     8.495818     8.707268    13.121007    15.599462  \n",
      "std       4.49900     4.167778     4.503615     5.835037     6.697857  \n",
      "min       0.00000     0.000000     0.040000     0.130000     0.670000  \n",
      "25%       5.09000     5.370000     5.330000     8.710000    10.710000  \n",
      "50%       8.08000     8.170000     8.290000    12.500000    15.000000  \n",
      "75%      11.42000    11.210000    11.630000    16.879999    19.830000  \n",
      "max      31.08000    25.879999    28.209999    42.380001    42.540001  \n"
     ]
    }
   ],
   "source": [
    "data_name = 'penn_benchmark_wind'\n",
    "\n",
    "# Returns a pandas DataFrame\n",
    "df = fetch_data('503_wind')\n",
    "print(df.describe())"
   ]
  },
  {
   "cell_type": "code",
   "execution_count": 3,
   "metadata": {},
   "outputs": [
    {
     "data": {
      "text/html": [
       "<div>\n",
       "<style scoped>\n",
       "    .dataframe tbody tr th:only-of-type {\n",
       "        vertical-align: middle;\n",
       "    }\n",
       "\n",
       "    .dataframe tbody tr th {\n",
       "        vertical-align: top;\n",
       "    }\n",
       "\n",
       "    .dataframe thead th {\n",
       "        text-align: right;\n",
       "    }\n",
       "</style>\n",
       "<table border=\"1\" class=\"dataframe\">\n",
       "  <thead>\n",
       "    <tr style=\"text-align: right;\">\n",
       "      <th></th>\n",
       "      <th>year</th>\n",
       "      <th>month</th>\n",
       "      <th>day</th>\n",
       "      <th>RPT</th>\n",
       "      <th>VAL</th>\n",
       "      <th>ROS</th>\n",
       "      <th>KIL</th>\n",
       "      <th>SHA</th>\n",
       "      <th>BIR</th>\n",
       "      <th>DUB</th>\n",
       "      <th>CLA</th>\n",
       "      <th>MUL</th>\n",
       "      <th>CLO</th>\n",
       "      <th>BEL</th>\n",
       "      <th>target</th>\n",
       "    </tr>\n",
       "  </thead>\n",
       "  <tbody>\n",
       "    <tr>\n",
       "      <th>0</th>\n",
       "      <td>61.0</td>\n",
       "      <td>1.0</td>\n",
       "      <td>1.0</td>\n",
       "      <td>15.04</td>\n",
       "      <td>14.960000</td>\n",
       "      <td>13.17</td>\n",
       "      <td>9.29</td>\n",
       "      <td>13.96</td>\n",
       "      <td>9.87</td>\n",
       "      <td>13.67</td>\n",
       "      <td>10.25</td>\n",
       "      <td>10.83</td>\n",
       "      <td>12.58</td>\n",
       "      <td>18.500000</td>\n",
       "      <td>15.04</td>\n",
       "    </tr>\n",
       "    <tr>\n",
       "      <th>1</th>\n",
       "      <td>61.0</td>\n",
       "      <td>1.0</td>\n",
       "      <td>2.0</td>\n",
       "      <td>14.71</td>\n",
       "      <td>16.879999</td>\n",
       "      <td>10.83</td>\n",
       "      <td>6.50</td>\n",
       "      <td>12.62</td>\n",
       "      <td>7.67</td>\n",
       "      <td>11.50</td>\n",
       "      <td>10.04</td>\n",
       "      <td>9.79</td>\n",
       "      <td>9.67</td>\n",
       "      <td>17.540001</td>\n",
       "      <td>13.83</td>\n",
       "    </tr>\n",
       "    <tr>\n",
       "      <th>2</th>\n",
       "      <td>61.0</td>\n",
       "      <td>1.0</td>\n",
       "      <td>3.0</td>\n",
       "      <td>18.50</td>\n",
       "      <td>16.879999</td>\n",
       "      <td>12.33</td>\n",
       "      <td>10.13</td>\n",
       "      <td>11.17</td>\n",
       "      <td>6.17</td>\n",
       "      <td>11.25</td>\n",
       "      <td>8.04</td>\n",
       "      <td>8.50</td>\n",
       "      <td>7.67</td>\n",
       "      <td>12.750000</td>\n",
       "      <td>12.71</td>\n",
       "    </tr>\n",
       "    <tr>\n",
       "      <th>3</th>\n",
       "      <td>61.0</td>\n",
       "      <td>1.0</td>\n",
       "      <td>4.0</td>\n",
       "      <td>10.58</td>\n",
       "      <td>6.630000</td>\n",
       "      <td>11.75</td>\n",
       "      <td>4.58</td>\n",
       "      <td>4.54</td>\n",
       "      <td>2.88</td>\n",
       "      <td>8.63</td>\n",
       "      <td>1.79</td>\n",
       "      <td>5.83</td>\n",
       "      <td>5.88</td>\n",
       "      <td>5.460000</td>\n",
       "      <td>10.88</td>\n",
       "    </tr>\n",
       "    <tr>\n",
       "      <th>4</th>\n",
       "      <td>61.0</td>\n",
       "      <td>1.0</td>\n",
       "      <td>5.0</td>\n",
       "      <td>13.33</td>\n",
       "      <td>13.250000</td>\n",
       "      <td>11.42</td>\n",
       "      <td>6.17</td>\n",
       "      <td>10.71</td>\n",
       "      <td>8.21</td>\n",
       "      <td>11.92</td>\n",
       "      <td>6.54</td>\n",
       "      <td>10.92</td>\n",
       "      <td>10.34</td>\n",
       "      <td>12.920000</td>\n",
       "      <td>11.83</td>\n",
       "    </tr>\n",
       "  </tbody>\n",
       "</table>\n",
       "</div>"
      ],
      "text/plain": [
       "   year  month  day    RPT        VAL    ROS    KIL    SHA   BIR    DUB  \\\n",
       "0  61.0    1.0  1.0  15.04  14.960000  13.17   9.29  13.96  9.87  13.67   \n",
       "1  61.0    1.0  2.0  14.71  16.879999  10.83   6.50  12.62  7.67  11.50   \n",
       "2  61.0    1.0  3.0  18.50  16.879999  12.33  10.13  11.17  6.17  11.25   \n",
       "3  61.0    1.0  4.0  10.58   6.630000  11.75   4.58   4.54  2.88   8.63   \n",
       "4  61.0    1.0  5.0  13.33  13.250000  11.42   6.17  10.71  8.21  11.92   \n",
       "\n",
       "     CLA    MUL    CLO        BEL  target  \n",
       "0  10.25  10.83  12.58  18.500000   15.04  \n",
       "1  10.04   9.79   9.67  17.540001   13.83  \n",
       "2   8.04   8.50   7.67  12.750000   12.71  \n",
       "3   1.79   5.83   5.88   5.460000   10.88  \n",
       "4   6.54  10.92  10.34  12.920000   11.83  "
      ]
     },
     "execution_count": 3,
     "metadata": {},
     "output_type": "execute_result"
    }
   ],
   "source": [
    "df.head()"
   ]
  },
  {
   "cell_type": "code",
   "execution_count": 4,
   "metadata": {},
   "outputs": [
    {
     "data": {
      "text/plain": [
       "(15.0, 0.6700000166893005, 42.540000915527344)"
      ]
     },
     "execution_count": 4,
     "metadata": {},
     "output_type": "execute_result"
    }
   ],
   "source": [
    "df['target'].median(), df['target'].min(), df['target'].max(),"
   ]
  },
  {
   "cell_type": "code",
   "execution_count": 5,
   "metadata": {},
   "outputs": [
    {
     "data": {
      "text/plain": [
       "14.670000    27\n",
       "11.960000    26\n",
       "12.920000    25\n",
       "13.210000    25\n",
       "13.790000    24\n",
       "             ..\n",
       "37.040001     1\n",
       "27.629999     1\n",
       "5.750000      1\n",
       "34.000000     1\n",
       "32.419998     1\n",
       "Name: target, Length: 779, dtype: int64"
      ]
     },
     "execution_count": 5,
     "metadata": {},
     "output_type": "execute_result"
    }
   ],
   "source": [
    "df['target'].value_counts()"
   ]
  },
  {
   "cell_type": "code",
   "execution_count": 6,
   "metadata": {},
   "outputs": [],
   "source": [
    "gt = (df['target'] > df['target'].median()).astype(int)\n",
    "df['gt'] = gt"
   ]
  },
  {
   "cell_type": "code",
   "execution_count": 7,
   "metadata": {},
   "outputs": [
    {
     "data": {
      "text/plain": [
       "0    3299\n",
       "1    3275\n",
       "Name: gt, dtype: int64"
      ]
     },
     "execution_count": 7,
     "metadata": {},
     "output_type": "execute_result"
    }
   ],
   "source": [
    "df['gt'].value_counts()"
   ]
  },
  {
   "cell_type": "markdown",
   "metadata": {},
   "source": [
    "## Train a classification model\n",
    "In this step, you can either train a model in the cell below, or skip the training part and read the model prediction of the training data from your own model ."
   ]
  },
  {
   "cell_type": "code",
   "execution_count": 22,
   "metadata": {},
   "outputs": [
    {
     "name": "stdout",
     "output_type": "stream",
     "text": [
      "0.8319391634980988\n"
     ]
    }
   ],
   "source": [
    "'''prepare data'''\n",
    "target_col = 'gt'\n",
    "\n",
    "to_keep = df.columns[:-2]\n",
    "X = df[to_keep].values\n",
    "y = df[target_col].values\n",
    "y = y.reshape(len(y))\n",
    "\n",
    "train, test, train_labels, test_labels = train_test_split(X, y, test_size = 0.2)\n",
    "\n",
    "train_df = pd.DataFrame(train, columns=df.columns[:-2].values)\n",
    "test_df = pd.DataFrame(test, columns=df.columns[:-2].values)\n",
    "\n",
    "'''train the model'''\n",
    "clf = MLPClassifier(random_state=1, max_iter=350)\n",
    "clf.fit(train, train_labels)\n",
    "\n",
    "'''report accuracy'''\n",
    "print(clf.score(test,test_labels ))"
   ]
  },
  {
   "cell_type": "code",
   "execution_count": null,
   "metadata": {},
   "outputs": [],
   "source": []
  }
 ],
 "metadata": {
  "kernelspec": {
   "display_name": "Python 3",
   "language": "python",
   "name": "python3"
  },
  "language_info": {
   "codemirror_mode": {
    "name": "ipython",
    "version": 3
   },
   "file_extension": ".py",
   "mimetype": "text/x-python",
   "name": "python",
   "nbconvert_exporter": "python",
   "pygments_lexer": "ipython3",
   "version": "3.8.3"
  }
 },
 "nbformat": 4,
 "nbformat_minor": 4
}
