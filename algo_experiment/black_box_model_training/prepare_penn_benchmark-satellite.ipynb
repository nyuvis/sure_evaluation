{
 "cells": [
  {
   "cell_type": "code",
   "execution_count": 2,
   "metadata": {},
   "outputs": [],
   "source": [
    "import os\n",
    "import json\n",
    "import pandas as pd\n",
    "import numpy as np\n",
    "\n",
    "from sklearn.neural_network import MLPClassifier\n",
    "\n",
    "from sklearn.model_selection import train_test_split\n",
    "from sklearn.metrics import classification_report\n",
    "from sklearn.metrics import accuracy_score\n",
    "from sklearn import svm\n",
    "\n",
    "from pmlb import fetch_data"
   ]
  },
  {
   "cell_type": "markdown",
   "metadata": {},
   "source": [
    "## Read Data\n",
    "You can change the code below to read your own data."
   ]
  },
  {
   "cell_type": "code",
   "execution_count": 3,
   "metadata": {},
   "outputs": [
    {
     "name": "stdout",
     "output_type": "stream",
     "text": [
      "             attr1        attr2        attr3        attr4        attr5  \\\n",
      "count  6435.000000  6435.000000  6435.000000  6435.000000  6435.000000   \n",
      "mean     69.400000    83.594872    99.290598    82.592696    69.150272   \n",
      "std      13.605871    22.882234    16.645944    18.897674    13.561197   \n",
      "min      39.000000    27.000000    53.000000    33.000000    39.000000   \n",
      "25%      60.000000    71.000000    85.000000    69.000000    60.000000   \n",
      "50%      68.000000    87.000000   101.000000    81.000000    68.000000   \n",
      "75%      80.000000   103.000000   113.000000    92.000000    80.000000   \n",
      "max     104.000000   137.000000   140.000000   154.000000   104.000000   \n",
      "\n",
      "             attr6        attr7        attr8        attr9       attr10  ...  \\\n",
      "count  6435.000000  6435.000000  6435.000000  6435.000000  6435.000000  ...   \n",
      "mean     83.243512    99.110645    82.497125    68.912354    82.893085  ...   \n",
      "std      22.886495    16.664088    18.940923    13.470599    22.862255  ...   \n",
      "min      27.000000    50.000000    29.000000    40.000000    27.000000  ...   \n",
      "25%      71.000000    85.000000    69.000000    60.000000    71.000000  ...   \n",
      "50%      85.000000   101.000000    81.000000    67.000000    85.000000  ...   \n",
      "75%     103.000000   113.000000    92.000000    79.000000   102.000000  ...   \n",
      "max     137.000000   145.000000   157.000000   104.000000   130.000000  ...   \n",
      "\n",
      "            attr28       attr29       attr30       attr31       attr32  \\\n",
      "count  6435.000000  6435.000000  6435.000000  6435.000000  6435.000000   \n",
      "mean     82.660606    68.944056    83.145610    99.111888    82.618026   \n",
      "std      18.991281    13.492684    22.847199    16.704305    19.043661   \n",
      "min      29.000000    39.000000    27.000000    50.000000    29.000000   \n",
      "25%      69.000000    60.000000    71.000000    85.000000    69.000000   \n",
      "50%      81.000000    68.000000    85.000000   100.000000    81.000000   \n",
      "75%      92.000000    79.000000   103.000000   113.000000    92.000000   \n",
      "max     154.000000   104.000000   130.000000   145.000000   157.000000   \n",
      "\n",
      "            attr33       attr34       attr35       attr36       target  \n",
      "count  6435.000000  6435.000000  6435.000000  6435.000000  6435.000000  \n",
      "mean     68.727584    82.858897    98.926030    82.505361     3.668687  \n",
      "std      13.401603    22.816959    16.695488    19.054274     2.214052  \n",
      "min      39.000000    27.000000    50.000000    29.000000     1.000000  \n",
      "25%      60.000000    71.000000    85.000000    68.000000     2.000000  \n",
      "50%      67.000000    84.000000   100.000000    81.000000     3.000000  \n",
      "75%      79.000000   103.000000   113.000000    92.000000     5.000000  \n",
      "max     104.000000   130.000000   145.000000   157.000000     7.000000  \n",
      "\n",
      "[8 rows x 37 columns]\n"
     ]
    }
   ],
   "source": [
    "data_name = 'penn_benchmark_satellite_image'\n",
    "\n",
    "# Returns a pandas DataFrame\n",
    "df = fetch_data('294_satellite_image')\n",
    "print(df.describe())"
   ]
  },
  {
   "cell_type": "code",
   "execution_count": 4,
   "metadata": {},
   "outputs": [
    {
     "data": {
      "text/html": [
       "<div>\n",
       "<style scoped>\n",
       "    .dataframe tbody tr th:only-of-type {\n",
       "        vertical-align: middle;\n",
       "    }\n",
       "\n",
       "    .dataframe tbody tr th {\n",
       "        vertical-align: top;\n",
       "    }\n",
       "\n",
       "    .dataframe thead th {\n",
       "        text-align: right;\n",
       "    }\n",
       "</style>\n",
       "<table border=\"1\" class=\"dataframe\">\n",
       "  <thead>\n",
       "    <tr style=\"text-align: right;\">\n",
       "      <th></th>\n",
       "      <th>attr1</th>\n",
       "      <th>attr2</th>\n",
       "      <th>attr3</th>\n",
       "      <th>attr4</th>\n",
       "      <th>attr5</th>\n",
       "      <th>attr6</th>\n",
       "      <th>attr7</th>\n",
       "      <th>attr8</th>\n",
       "      <th>attr9</th>\n",
       "      <th>attr10</th>\n",
       "      <th>...</th>\n",
       "      <th>attr28</th>\n",
       "      <th>attr29</th>\n",
       "      <th>attr30</th>\n",
       "      <th>attr31</th>\n",
       "      <th>attr32</th>\n",
       "      <th>attr33</th>\n",
       "      <th>attr34</th>\n",
       "      <th>attr35</th>\n",
       "      <th>attr36</th>\n",
       "      <th>target</th>\n",
       "    </tr>\n",
       "  </thead>\n",
       "  <tbody>\n",
       "    <tr>\n",
       "      <th>0</th>\n",
       "      <td>92.0</td>\n",
       "      <td>115.0</td>\n",
       "      <td>120.0</td>\n",
       "      <td>94.0</td>\n",
       "      <td>84.0</td>\n",
       "      <td>102.0</td>\n",
       "      <td>106.0</td>\n",
       "      <td>79.0</td>\n",
       "      <td>84.0</td>\n",
       "      <td>102.0</td>\n",
       "      <td>...</td>\n",
       "      <td>104.0</td>\n",
       "      <td>88.0</td>\n",
       "      <td>121.0</td>\n",
       "      <td>128.0</td>\n",
       "      <td>100.0</td>\n",
       "      <td>84.0</td>\n",
       "      <td>107.0</td>\n",
       "      <td>113.0</td>\n",
       "      <td>87.0</td>\n",
       "      <td>3.0</td>\n",
       "    </tr>\n",
       "    <tr>\n",
       "      <th>1</th>\n",
       "      <td>84.0</td>\n",
       "      <td>102.0</td>\n",
       "      <td>106.0</td>\n",
       "      <td>79.0</td>\n",
       "      <td>84.0</td>\n",
       "      <td>102.0</td>\n",
       "      <td>102.0</td>\n",
       "      <td>83.0</td>\n",
       "      <td>80.0</td>\n",
       "      <td>102.0</td>\n",
       "      <td>...</td>\n",
       "      <td>100.0</td>\n",
       "      <td>84.0</td>\n",
       "      <td>107.0</td>\n",
       "      <td>113.0</td>\n",
       "      <td>87.0</td>\n",
       "      <td>84.0</td>\n",
       "      <td>99.0</td>\n",
       "      <td>104.0</td>\n",
       "      <td>79.0</td>\n",
       "      <td>3.0</td>\n",
       "    </tr>\n",
       "    <tr>\n",
       "      <th>2</th>\n",
       "      <td>84.0</td>\n",
       "      <td>102.0</td>\n",
       "      <td>102.0</td>\n",
       "      <td>83.0</td>\n",
       "      <td>80.0</td>\n",
       "      <td>102.0</td>\n",
       "      <td>102.0</td>\n",
       "      <td>79.0</td>\n",
       "      <td>84.0</td>\n",
       "      <td>94.0</td>\n",
       "      <td>...</td>\n",
       "      <td>87.0</td>\n",
       "      <td>84.0</td>\n",
       "      <td>99.0</td>\n",
       "      <td>104.0</td>\n",
       "      <td>79.0</td>\n",
       "      <td>84.0</td>\n",
       "      <td>99.0</td>\n",
       "      <td>104.0</td>\n",
       "      <td>79.0</td>\n",
       "      <td>3.0</td>\n",
       "    </tr>\n",
       "    <tr>\n",
       "      <th>3</th>\n",
       "      <td>80.0</td>\n",
       "      <td>102.0</td>\n",
       "      <td>102.0</td>\n",
       "      <td>79.0</td>\n",
       "      <td>84.0</td>\n",
       "      <td>94.0</td>\n",
       "      <td>102.0</td>\n",
       "      <td>79.0</td>\n",
       "      <td>80.0</td>\n",
       "      <td>94.0</td>\n",
       "      <td>...</td>\n",
       "      <td>79.0</td>\n",
       "      <td>84.0</td>\n",
       "      <td>99.0</td>\n",
       "      <td>104.0</td>\n",
       "      <td>79.0</td>\n",
       "      <td>84.0</td>\n",
       "      <td>103.0</td>\n",
       "      <td>104.0</td>\n",
       "      <td>79.0</td>\n",
       "      <td>3.0</td>\n",
       "    </tr>\n",
       "    <tr>\n",
       "      <th>4</th>\n",
       "      <td>84.0</td>\n",
       "      <td>94.0</td>\n",
       "      <td>102.0</td>\n",
       "      <td>79.0</td>\n",
       "      <td>80.0</td>\n",
       "      <td>94.0</td>\n",
       "      <td>98.0</td>\n",
       "      <td>76.0</td>\n",
       "      <td>80.0</td>\n",
       "      <td>102.0</td>\n",
       "      <td>...</td>\n",
       "      <td>79.0</td>\n",
       "      <td>84.0</td>\n",
       "      <td>103.0</td>\n",
       "      <td>104.0</td>\n",
       "      <td>79.0</td>\n",
       "      <td>79.0</td>\n",
       "      <td>107.0</td>\n",
       "      <td>109.0</td>\n",
       "      <td>87.0</td>\n",
       "      <td>3.0</td>\n",
       "    </tr>\n",
       "  </tbody>\n",
       "</table>\n",
       "<p>5 rows × 37 columns</p>\n",
       "</div>"
      ],
      "text/plain": [
       "   attr1  attr2  attr3  attr4  attr5  attr6  attr7  attr8  attr9  attr10  ...  \\\n",
       "0   92.0  115.0  120.0   94.0   84.0  102.0  106.0   79.0   84.0   102.0  ...   \n",
       "1   84.0  102.0  106.0   79.0   84.0  102.0  102.0   83.0   80.0   102.0  ...   \n",
       "2   84.0  102.0  102.0   83.0   80.0  102.0  102.0   79.0   84.0    94.0  ...   \n",
       "3   80.0  102.0  102.0   79.0   84.0   94.0  102.0   79.0   80.0    94.0  ...   \n",
       "4   84.0   94.0  102.0   79.0   80.0   94.0   98.0   76.0   80.0   102.0  ...   \n",
       "\n",
       "   attr28  attr29  attr30  attr31  attr32  attr33  attr34  attr35  attr36  \\\n",
       "0   104.0    88.0   121.0   128.0   100.0    84.0   107.0   113.0    87.0   \n",
       "1   100.0    84.0   107.0   113.0    87.0    84.0    99.0   104.0    79.0   \n",
       "2    87.0    84.0    99.0   104.0    79.0    84.0    99.0   104.0    79.0   \n",
       "3    79.0    84.0    99.0   104.0    79.0    84.0   103.0   104.0    79.0   \n",
       "4    79.0    84.0   103.0   104.0    79.0    79.0   107.0   109.0    87.0   \n",
       "\n",
       "   target  \n",
       "0     3.0  \n",
       "1     3.0  \n",
       "2     3.0  \n",
       "3     3.0  \n",
       "4     3.0  \n",
       "\n",
       "[5 rows x 37 columns]"
      ]
     },
     "execution_count": 4,
     "metadata": {},
     "output_type": "execute_result"
    }
   ],
   "source": [
    "df.head()"
   ]
  },
  {
   "cell_type": "code",
   "execution_count": 5,
   "metadata": {},
   "outputs": [
    {
     "data": {
      "text/plain": [
       "(3.0, 1.0, 7.0)"
      ]
     },
     "execution_count": 5,
     "metadata": {},
     "output_type": "execute_result"
    }
   ],
   "source": [
    "df['target'].median(), df['target'].min(), df['target'].max(),"
   ]
  },
  {
   "cell_type": "code",
   "execution_count": 6,
   "metadata": {},
   "outputs": [
    {
     "data": {
      "text/plain": [
       "1.0    1533\n",
       "7.0    1508\n",
       "3.0    1358\n",
       "5.0     707\n",
       "2.0     703\n",
       "4.0     626\n",
       "Name: target, dtype: int64"
      ]
     },
     "execution_count": 6,
     "metadata": {},
     "output_type": "execute_result"
    }
   ],
   "source": [
    "df['target'].value_counts()"
   ]
  },
  {
   "cell_type": "code",
   "execution_count": 7,
   "metadata": {},
   "outputs": [],
   "source": [
    "gt = (df['target'] > df['target'].median()).astype(int)\n",
    "df['gt'] = gt"
   ]
  },
  {
   "cell_type": "code",
   "execution_count": 8,
   "metadata": {},
   "outputs": [
    {
     "data": {
      "text/plain": [
       "0    3594\n",
       "1    2841\n",
       "Name: gt, dtype: int64"
      ]
     },
     "execution_count": 8,
     "metadata": {},
     "output_type": "execute_result"
    }
   ],
   "source": [
    "df['gt'].value_counts()"
   ]
  },
  {
   "cell_type": "markdown",
   "metadata": {},
   "source": [
    "## Train a classification model\n",
    "In this step, you can either train a model in the cell below, or skip the training part and read the model prediction of the training data from your own model ."
   ]
  },
  {
   "cell_type": "code",
   "execution_count": 9,
   "metadata": {},
   "outputs": [
    {
     "name": "stdout",
     "output_type": "stream",
     "text": [
      "0.8562548562548562\n"
     ]
    }
   ],
   "source": [
    "'''prepare data'''\n",
    "target_col = 'gt'\n",
    "\n",
    "to_keep = df.columns[:-2]\n",
    "X = df[to_keep].values\n",
    "y = df[target_col].values\n",
    "y = y.reshape(len(y))\n",
    "\n",
    "train, test, train_labels, test_labels = train_test_split(X, y, test_size = 0.2)\n",
    "\n",
    "train_df = pd.DataFrame(train, columns=df.columns[:-2].values)\n",
    "test_df = pd.DataFrame(test, columns=df.columns[:-2].values)\n",
    "\n",
    "'''train the model'''\n",
    "clf = MLPClassifier(random_state=1, max_iter=350)\n",
    "clf.fit(train, train_labels)\n",
    "\n",
    "'''report accuracy'''\n",
    "print(clf.score(test,test_labels ))"
   ]
  },
  {
   "cell_type": "code",
   "execution_count": 10,
   "metadata": {},
   "outputs": [],
   "source": [
    "y_pred = clf.predict(train)"
   ]
  },
  {
   "cell_type": "markdown",
   "metadata": {},
   "source": [
    "## Output Training Data"
   ]
  },
  {
   "cell_type": "code",
   "execution_count": 11,
   "metadata": {},
   "outputs": [],
   "source": [
    "'''\n",
    "cols: the column names of the input data.\n",
    "data: the training input.\n",
    "target_names: the names for the target classes (grount truth).\n",
    "real_min: minimal values for columns of the input data.\n",
    "real_max: maximal values for columns of the input data.\n",
    "y_pred: the prediction of the input data from the model you want to explain.\n",
    "y_gt: the ground truth of the input data.\n",
    "'''\n",
    "\n",
    "def output_data(cols, data, target_names, real_min, real_max, y_pred, y_gt):\n",
    "    filename = \"./output/\"+data_name+\"/test.json\"\n",
    "    directory = os.path.dirname(filename)\n",
    "    if not os.path.exists(directory):\n",
    "        os.makedirs(directory)\n",
    "        \n",
    "    to_output = {}\n",
    "    to_output['columns'] = cols\n",
    "    to_output['data'] = data\n",
    "    to_output['target_names'] = target_names\n",
    "    to_output['real_min'] = real_min\n",
    "    to_output['real_max'] = real_max\n",
    "    to_output['y_pred'] = y_pred\n",
    "    to_output['y_gt'] = y_gt\n",
    "    with open(filename, 'w') as output:\n",
    "        output.write(json.dumps(to_output))"
   ]
  },
  {
   "cell_type": "code",
   "execution_count": 12,
   "metadata": {},
   "outputs": [],
   "source": [
    "''' name the target classes '''\n",
    "target_names = [\"low\", \"high\"]\n",
    "\n",
    "''' obtain the min and max values '''\n",
    "min_val = np.min(X, axis=0)\n",
    "max_val = np.max(X, axis=0)\n",
    "\n",
    "''' output data '''\n",
    "output_data(cols=to_keep.tolist(), \n",
    "            data=train.tolist(), \n",
    "            target_names=target_names, \n",
    "            real_min=min_val.tolist(), \n",
    "            real_max=max_val.tolist(),\n",
    "            y_pred=y_pred.tolist(), \n",
    "            y_gt=train_labels.tolist())"
   ]
  },
  {
   "cell_type": "code",
   "execution_count": null,
   "metadata": {},
   "outputs": [],
   "source": []
  },
  {
   "cell_type": "code",
   "execution_count": null,
   "metadata": {},
   "outputs": [],
   "source": []
  }
 ],
 "metadata": {
  "kernelspec": {
   "display_name": "Python 3",
   "language": "python",
   "name": "python3"
  },
  "language_info": {
   "codemirror_mode": {
    "name": "ipython",
    "version": 3
   },
   "file_extension": ".py",
   "mimetype": "text/x-python",
   "name": "python",
   "nbconvert_exporter": "python",
   "pygments_lexer": "ipython3",
   "version": "3.8.3"
  }
 },
 "nbformat": 4,
 "nbformat_minor": 4
}
