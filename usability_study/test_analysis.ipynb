{
 "cells": [
  {
   "cell_type": "code",
   "execution_count": 1,
   "metadata": {},
   "outputs": [],
   "source": [
    "import numpy as np\n",
    "import pandas as pd\n",
    "import altair as alt\n"
   ]
  },
  {
   "cell_type": "code",
   "execution_count": 2,
   "metadata": {},
   "outputs": [
    {
     "data": {
      "text/html": [
       "<div>\n",
       "<style scoped>\n",
       "    .dataframe tbody tr th:only-of-type {\n",
       "        vertical-align: middle;\n",
       "    }\n",
       "\n",
       "    .dataframe tbody tr th {\n",
       "        vertical-align: top;\n",
       "    }\n",
       "\n",
       "    .dataframe thead th {\n",
       "        text-align: right;\n",
       "    }\n",
       "</style>\n",
       "<table border=\"1\" class=\"dataframe\">\n",
       "  <thead>\n",
       "    <tr style=\"text-align: right;\">\n",
       "      <th></th>\n",
       "      <th>Q_id</th>\n",
       "      <th>Q1</th>\n",
       "      <th>Q2</th>\n",
       "      <th>Q3</th>\n",
       "      <th>Q4</th>\n",
       "      <th>Q5</th>\n",
       "      <th>Q6_1</th>\n",
       "      <th>Q6_2</th>\n",
       "      <th>Q6_3</th>\n",
       "      <th>Q6_4</th>\n",
       "      <th>...</th>\n",
       "      <th>Q12_16</th>\n",
       "      <th>Q12_17</th>\n",
       "      <th>Q12_18</th>\n",
       "      <th>Q12_19</th>\n",
       "      <th>Q12_20</th>\n",
       "      <th>Q12_21</th>\n",
       "      <th>Q12_22</th>\n",
       "      <th>Q12_23</th>\n",
       "      <th>Q12_24</th>\n",
       "      <th>Q12_25</th>\n",
       "    </tr>\n",
       "  </thead>\n",
       "  <tbody>\n",
       "    <tr>\n",
       "      <th>0</th>\n",
       "      <td>P1</td>\n",
       "      <td>3</td>\n",
       "      <td>3</td>\n",
       "      <td>2</td>\n",
       "      <td>2</td>\n",
       "      <td>1</td>\n",
       "      <td>Off</td>\n",
       "      <td>Off</td>\n",
       "      <td>On</td>\n",
       "      <td>Off</td>\n",
       "      <td>...</td>\n",
       "      <td>Off</td>\n",
       "      <td>Off</td>\n",
       "      <td>On</td>\n",
       "      <td>Off</td>\n",
       "      <td>Off</td>\n",
       "      <td>Off</td>\n",
       "      <td>Off</td>\n",
       "      <td>Off</td>\n",
       "      <td>Off</td>\n",
       "      <td>Off</td>\n",
       "    </tr>\n",
       "    <tr>\n",
       "      <th>1</th>\n",
       "      <td>P2</td>\n",
       "      <td>3</td>\n",
       "      <td>3</td>\n",
       "      <td>2</td>\n",
       "      <td>2</td>\n",
       "      <td>1</td>\n",
       "      <td>Off</td>\n",
       "      <td>Off</td>\n",
       "      <td>Off</td>\n",
       "      <td>Off</td>\n",
       "      <td>...</td>\n",
       "      <td>Off</td>\n",
       "      <td>Off</td>\n",
       "      <td>On</td>\n",
       "      <td>Off</td>\n",
       "      <td>Off</td>\n",
       "      <td>Off</td>\n",
       "      <td>Off</td>\n",
       "      <td>Off</td>\n",
       "      <td>Off</td>\n",
       "      <td>Off</td>\n",
       "    </tr>\n",
       "    <tr>\n",
       "      <th>2</th>\n",
       "      <td>P3</td>\n",
       "      <td>3</td>\n",
       "      <td>3</td>\n",
       "      <td>2</td>\n",
       "      <td>2</td>\n",
       "      <td>1</td>\n",
       "      <td>Off</td>\n",
       "      <td>Off</td>\n",
       "      <td>Off</td>\n",
       "      <td>Off</td>\n",
       "      <td>...</td>\n",
       "      <td>Off</td>\n",
       "      <td>Off</td>\n",
       "      <td>On</td>\n",
       "      <td>Off</td>\n",
       "      <td>Off</td>\n",
       "      <td>Off</td>\n",
       "      <td>Off</td>\n",
       "      <td>Off</td>\n",
       "      <td>Off</td>\n",
       "      <td>Off</td>\n",
       "    </tr>\n",
       "    <tr>\n",
       "      <th>3</th>\n",
       "      <td>P4</td>\n",
       "      <td>3</td>\n",
       "      <td>3</td>\n",
       "      <td>2</td>\n",
       "      <td>1</td>\n",
       "      <td>1</td>\n",
       "      <td>Off</td>\n",
       "      <td>Off</td>\n",
       "      <td>Off</td>\n",
       "      <td>Off</td>\n",
       "      <td>...</td>\n",
       "      <td>Off</td>\n",
       "      <td>Off</td>\n",
       "      <td>On</td>\n",
       "      <td>Off</td>\n",
       "      <td>Off</td>\n",
       "      <td>Off</td>\n",
       "      <td>Off</td>\n",
       "      <td>Off</td>\n",
       "      <td>Off</td>\n",
       "      <td>Off</td>\n",
       "    </tr>\n",
       "    <tr>\n",
       "      <th>4</th>\n",
       "      <td>P5</td>\n",
       "      <td>3</td>\n",
       "      <td>3</td>\n",
       "      <td>2</td>\n",
       "      <td>2</td>\n",
       "      <td>1</td>\n",
       "      <td>Off</td>\n",
       "      <td>Off</td>\n",
       "      <td>Off</td>\n",
       "      <td>Off</td>\n",
       "      <td>...</td>\n",
       "      <td>Off</td>\n",
       "      <td>Off</td>\n",
       "      <td>On</td>\n",
       "      <td>Off</td>\n",
       "      <td>Off</td>\n",
       "      <td>Off</td>\n",
       "      <td>Off</td>\n",
       "      <td>Off</td>\n",
       "      <td>Off</td>\n",
       "      <td>Off</td>\n",
       "    </tr>\n",
       "  </tbody>\n",
       "</table>\n",
       "<p>5 rows × 181 columns</p>\n",
       "</div>"
      ],
      "text/plain": [
       "  Q_id  Q1  Q2  Q3  Q4  Q5 Q6_1 Q6_2 Q6_3 Q6_4  ... Q12_16 Q12_17 Q12_18  \\\n",
       "0   P1   3   3   2   2   1  Off  Off   On  Off  ...    Off    Off     On   \n",
       "1   P2   3   3   2   2   1  Off  Off  Off  Off  ...    Off    Off     On   \n",
       "2   P3   3   3   2   2   1  Off  Off  Off  Off  ...    Off    Off     On   \n",
       "3   P4   3   3   2   1   1  Off  Off  Off  Off  ...    Off    Off     On   \n",
       "4   P5   3   3   2   2   1  Off  Off  Off  Off  ...    Off    Off     On   \n",
       "\n",
       "  Q12_19 Q12_20 Q12_21 Q12_22 Q12_23 Q12_24 Q12_25  \n",
       "0    Off    Off    Off    Off    Off    Off    Off  \n",
       "1    Off    Off    Off    Off    Off    Off    Off  \n",
       "2    Off    Off    Off    Off    Off    Off    Off  \n",
       "3    Off    Off    Off    Off    Off    Off    Off  \n",
       "4    Off    Off    Off    Off    Off    Off    Off  \n",
       "\n",
       "[5 rows x 181 columns]"
      ]
     },
     "execution_count": 2,
     "metadata": {},
     "output_type": "execute_result"
    }
   ],
   "source": [
    "df = pd.read_csv(filepath_or_buffer=\"anonymous_response.csv\")\n",
    "df.head()"
   ]
  },
  {
   "cell_type": "markdown",
   "metadata": {},
   "source": [
    "# Task 1"
   ]
  },
  {
   "cell_type": "code",
   "execution_count": 3,
   "metadata": {},
   "outputs": [],
   "source": [
    "t1_ans = [3, 3, 2, 2, 1]\n",
    "t1_q = ['Q1', 'Q2', 'Q3', 'Q4', 'Q5']"
   ]
  },
  {
   "cell_type": "code",
   "execution_count": 4,
   "metadata": {},
   "outputs": [
    {
     "data": {
      "text/plain": [
       "array([[1, 1, 1, 1, 1],\n",
       "       [1, 1, 1, 1, 1],\n",
       "       [1, 1, 1, 1, 1],\n",
       "       [1, 1, 1, 0, 1],\n",
       "       [1, 1, 1, 1, 1],\n",
       "       [1, 1, 1, 1, 1],\n",
       "       [1, 1, 1, 1, 1],\n",
       "       [1, 1, 1, 1, 1],\n",
       "       [1, 1, 1, 1, 1],\n",
       "       [1, 1, 1, 1, 1],\n",
       "       [1, 1, 1, 1, 1],\n",
       "       [1, 1, 1, 1, 1],\n",
       "       [0, 1, 0, 1, 0],\n",
       "       [1, 1, 1, 1, 1],\n",
       "       [1, 1, 1, 1, 1],\n",
       "       [0, 1, 1, 1, 1],\n",
       "       [1, 1, 1, 1, 1],\n",
       "       [1, 1, 1, 1, 1],\n",
       "       [1, 1, 1, 1, 1],\n",
       "       [1, 1, 1, 1, 1],\n",
       "       [0, 1, 1, 1, 1],\n",
       "       [1, 1, 1, 1, 1],\n",
       "       [1, 1, 1, 1, 1],\n",
       "       [1, 1, 1, 1, 1]])"
      ]
     },
     "execution_count": 4,
     "metadata": {},
     "output_type": "execute_result"
    }
   ],
   "source": [
    "# accuracy per person\n",
    "t1_response = df[t1_q].values\n",
    "t1_grade = t1_response.astype(int) == t1_ans\n",
    "t1_grade.astype(int)"
   ]
  },
  {
   "cell_type": "code",
   "execution_count": 5,
   "metadata": {},
   "outputs": [
    {
     "data": {
      "text/plain": [
       "array([24, 23, 23, 23])"
      ]
     },
     "execution_count": 5,
     "metadata": {},
     "output_type": "execute_result"
    }
   ],
   "source": [
    "# q1 is just for familiarization, not report in the final result\n",
    "t1_grade.sum(axis=0)[1:]"
   ]
  },
  {
   "cell_type": "markdown",
   "metadata": {},
   "source": [
    "# Task 2"
   ]
  },
  {
   "cell_type": "code",
   "execution_count": 6,
   "metadata": {},
   "outputs": [],
   "source": [
    "t2_ans = {\n",
    "    'Q6': [3, 4, 6, 7, 10, 11, 15, 16, 17, 19, 20, 21, 23],  # the first task is not report in the result\n",
    "    'Q7': [2,3,4,10,11,18,20,21,24], \n",
    "    'Q8': [6, 15, 16, 19, 23], \n",
    "    'Q9': [11], \n",
    "    'Q10': [10,13,16,17,22,24], \n",
    "    'Q11': [1,2,5,8,9,12,14,18,22,24,25], \n",
    "    'Q12': [18],\n",
    "}\n",
    "t2_q = list(t2_ans.keys())"
   ]
  },
  {
   "cell_type": "code",
   "execution_count": 7,
   "metadata": {},
   "outputs": [],
   "source": [
    "# target: get t2_grade\n",
    "# one incorrect makes it incorrect\n",
    "t2_grade = []\n",
    "for idx in range(df.shape[0]):\n",
    "    one_reply = []\n",
    "    for q_id in t2_q:\n",
    "        hit_count = 0\n",
    "        for area in t2_ans[q_id]:\n",
    "            hit_count += df.iloc[idx][q_id+'_'+str(area)] == 'On'\n",
    "        for area in range(1,26):\n",
    "            hit = df.iloc[idx][q_id+'_'+str(area)] == 'On' and (area not in t2_ans[q_id])\n",
    "            if hit:\n",
    "                hit_count == 0\n",
    "                break\n",
    "        one_reply.append(hit_count>0)\n",
    "    t2_grade.append(one_reply)\n",
    "t2_grade = np.array(t2_grade, dtype=int)\n",
    "    "
   ]
  },
  {
   "cell_type": "code",
   "execution_count": 8,
   "metadata": {},
   "outputs": [
    {
     "data": {
      "text/plain": [
       "array([24, 23, 23, 22, 24, 24])"
      ]
     },
     "execution_count": 8,
     "metadata": {},
     "output_type": "execute_result"
    }
   ],
   "source": [
    "t2_grade.sum(axis=0)[1:]"
   ]
  },
  {
   "cell_type": "code",
   "execution_count": null,
   "metadata": {},
   "outputs": [],
   "source": []
  }
 ],
 "metadata": {
  "kernelspec": {
   "display_name": "Python 3",
   "language": "python",
   "name": "python3"
  },
  "language_info": {
   "codemirror_mode": {
    "name": "ipython",
    "version": 3
   },
   "file_extension": ".py",
   "mimetype": "text/x-python",
   "name": "python",
   "nbconvert_exporter": "python",
   "pygments_lexer": "ipython3",
   "version": "3.8.3"
  }
 },
 "nbformat": 4,
 "nbformat_minor": 4
}
